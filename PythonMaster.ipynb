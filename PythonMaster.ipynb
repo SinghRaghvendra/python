{
  "nbformat": 4,
  "nbformat_minor": 0,
  "metadata": {
    "colab": {
      "provenance": [],
      "authorship_tag": "ABX9TyNTFm/41p00Sm1SYhufC0XS",
      "include_colab_link": true
    },
    "kernelspec": {
      "name": "python3",
      "display_name": "Python 3"
    },
    "language_info": {
      "name": "python"
    }
  },
  "cells": [
    {
      "cell_type": "markdown",
      "metadata": {
        "id": "view-in-github",
        "colab_type": "text"
      },
      "source": [
        "<a href=\"https://colab.research.google.com/github/SinghRaghvendra/python/blob/master/PythonMaster.ipynb\" target=\"_parent\"><img src=\"https://colab.research.google.com/assets/colab-badge.svg\" alt=\"Open In Colab\"/></a>"
      ]
    },
    {
      "cell_type": "code",
      "execution_count": 1,
      "metadata": {
        "id": "fS3U3v8YVmqB",
        "colab": {
          "base_uri": "https://localhost:8080/"
        },
        "outputId": "c21bb570-ce72-4772-cce5-d0982914a640"
      },
      "outputs": [
        {
          "output_type": "stream",
          "name": "stdout",
          "text": [
            "Hello Raghav\n"
          ]
        }
      ],
      "source": [
        "print(\"Hello Raghav\")"
      ]
    },
    {
      "cell_type": "code",
      "source": [
        "# python programme to find number of vovels in a string\n",
        "\n",
        "string = input(\"Enter a sentence:\")\n",
        "\n",
        "def count_vowels(string):\n",
        "  count = 0\n",
        "  vowels = \"aeiouAEIOU\"\n",
        "  for i in string:\n",
        "    if i in vowels:\n",
        "      count += 1\n",
        "\n",
        "\n"
      ],
      "metadata": {
        "id": "TxuPvOJ8V68J"
      },
      "execution_count": null,
      "outputs": []
    },
    {
      "cell_type": "code",
      "source": [],
      "metadata": {
        "id": "1TvUk2NBXTLd"
      },
      "execution_count": 2,
      "outputs": []
    }
  ]
}